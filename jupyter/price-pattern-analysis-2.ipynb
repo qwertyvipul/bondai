{
 "cells": [
  {
   "cell_type": "code",
   "execution_count": 1,
   "metadata": {},
   "outputs": [
    {
     "name": "stdout",
     "output_type": "stream",
     "text": [
      "[1 2 3 4]\n"
     ]
    }
   ],
   "source": [
    "import numpy as np\n",
    "print(np.array([1,2,3,4]))"
   ]
  },
  {
   "cell_type": "code",
   "execution_count": 3,
   "metadata": {},
   "outputs": [
    {
     "name": "stdout",
     "output_type": "stream",
     "text": [
      "[[1 2 3]\n",
      " [1 2 3]]\n"
     ]
    }
   ],
   "source": [
    "print(np.array([(1,2,3),(1,2,3)]))"
   ]
  },
  {
   "cell_type": "code",
   "execution_count": 4,
   "metadata": {},
   "outputs": [
    {
     "name": "stdout",
     "output_type": "stream",
     "text": [
      "[1.06225396e-311 1.29061006e-306 1.44635488e-307 9.34609111e-307\n",
      " 4.89547485e-307]\n"
     ]
    }
   ],
   "source": [
    "print(np.empty(5)) # One dimensional array"
   ]
  },
  {
   "cell_type": "code",
   "execution_count": 6,
   "metadata": {},
   "outputs": [
    {
     "name": "stdout",
     "output_type": "stream",
     "text": [
      "[[6.23042070e-307 4.67296746e-307 1.69121096e-306 1.42418987e-306]\n",
      " [1.89146896e-307 1.37961302e-306 1.05699242e-307 8.01097889e-307]\n",
      " [1.78020169e-306 7.56601165e-307 1.02359984e-306 1.33510679e-306]\n",
      " [2.22522597e-306 1.69119330e-306 1.02360867e-306 1.60220528e-306]\n",
      " [1.78019082e-306 9.34598925e-307 7.56602523e-307 1.69121096e-306]]\n"
     ]
    }
   ],
   "source": [
    "print(np.empty((5,4))) # Two dimensional array"
   ]
  },
  {
   "cell_type": "code",
   "execution_count": 9,
   "metadata": {},
   "outputs": [
    {
     "name": "stdout",
     "output_type": "stream",
     "text": [
      "[[[1.06223821e-311 1.06227927e-311 1.48219694e-323]\n",
      "  [1.06227940e-311 0.00000000e+000 1.06227828e-311]\n",
      "  [2.12199579e-314 0.00000000e+000 0.00000000e+000]\n",
      "  [0.00000000e+000 0.00000000e+000 0.00000000e+000]]\n",
      "\n",
      " [[0.00000000e+000 0.00000000e+000 1.06227940e-311]\n",
      "  [0.00000000e+000 8.79467787e-313 3.90900975e-303]\n",
      "  [1.33360438e+241 1.06227825e-311 1.06225640e-311]\n",
      "  [0.00000000e+000 0.00000000e+000 0.00000000e+000]]\n",
      "\n",
      " [[0.00000000e+000 0.00000000e+000 0.00000000e+000]\n",
      "  [0.00000000e+000 2.47032823e-323 2.12199579e-314]\n",
      "  [1.33360320e+241 1.06227828e-311 5.03961303e-266]\n",
      "  [3.99046770e-008 1.09976676e-309 4.02977901e-270]]\n",
      "\n",
      " [[4.02977523e-270 1.37126145e-231 1.06227870e-311]\n",
      "  [1.06227870e-311 4.02792669e-270 9.37824763e-280]\n",
      "  [1.61343354e-231 1.37189168e-231 8.53290859e-270]\n",
      "  [2.84687105e-309 1.15321034e-202 3.19418155e-241]]\n",
      "\n",
      " [[5.49560652e-260 3.38718966e-258 2.21640853e-258]\n",
      "  [4.73986653e-270 6.58134197e-222 6.30709285e-260]\n",
      "  [1.72763522e-260 4.17186786e-269 6.16296615e-270]\n",
      "  [6.45126244e-231 1.52534693e-221 5.64423524e-289]]]\n"
     ]
    }
   ],
   "source": [
    "print(np.empty((5,4,3))) # Three dimensional array"
   ]
  },
  {
   "cell_type": "markdown",
   "metadata": {},
   "source": [
    "In the above three dimensional array we have three frames - with each frame consisting of 5-rows and 4-columns"
   ]
  },
  {
   "cell_type": "code",
   "execution_count": 10,
   "metadata": {},
   "outputs": [
    {
     "name": "stdout",
     "output_type": "stream",
     "text": [
      "[[1. 1. 1. 1.]\n",
      " [1. 1. 1. 1.]\n",
      " [1. 1. 1. 1.]\n",
      " [1. 1. 1. 1.]\n",
      " [1. 1. 1. 1.]]\n"
     ]
    }
   ],
   "source": [
    "# Array of ones\n",
    "print(np.ones((5,4)))"
   ]
  },
  {
   "cell_type": "markdown",
   "metadata": {},
   "source": [
    "But, still the values are floating point numbers"
   ]
  },
  {
   "cell_type": "code",
   "execution_count": 11,
   "metadata": {},
   "outputs": [
    {
     "name": "stdout",
     "output_type": "stream",
     "text": [
      "[[1 1 1 1]\n",
      " [1 1 1 1]\n",
      " [1 1 1 1]\n",
      " [1 1 1 1]\n",
      " [1 1 1 1]]\n"
     ]
    }
   ],
   "source": [
    "# Array of ones with integer datatypes\n",
    "print(np.ones((5,4), dtype=np.int_))"
   ]
  },
  {
   "cell_type": "code",
   "execution_count": 13,
   "metadata": {},
   "outputs": [
    {
     "name": "stdout",
     "output_type": "stream",
     "text": [
      "[[0. 0. 0. 0.]\n",
      " [0. 0. 0. 0.]\n",
      " [0. 0. 0. 0.]\n",
      " [0. 0. 0. 0.]\n",
      " [0. 0. 0. 0.]]\n"
     ]
    }
   ],
   "source": [
    "print(np.zeros((5,4)))"
   ]
  },
  {
   "cell_type": "code",
   "execution_count": 14,
   "metadata": {},
   "outputs": [
    {
     "name": "stdout",
     "output_type": "stream",
     "text": [
      "[[0 0 0 0]\n",
      " [0 0 0 0]\n",
      " [0 0 0 0]\n",
      " [0 0 0 0]\n",
      " [0 0 0 0]]\n"
     ]
    }
   ],
   "source": [
    "print(np.zeros((5,4), dtype=np.int_))"
   ]
  },
  {
   "cell_type": "code",
   "execution_count": 15,
   "metadata": {},
   "outputs": [
    {
     "name": "stdout",
     "output_type": "stream",
     "text": [
      "[[0.52166633 0.21422932 0.75593348 0.86469999]\n",
      " [0.31030841 0.49409259 0.87848064 0.85944138]\n",
      " [0.11041752 0.5827934  0.06751161 0.91144841]\n",
      " [0.74007052 0.3144301  0.78740003 0.61734561]\n",
      " [0.19083933 0.79146684 0.20393204 0.94107796]]\n"
     ]
    }
   ],
   "source": [
    "# Randomly filled array with values in between 0 and 1\n",
    "print(np.random.random((5,4)))"
   ]
  },
  {
   "cell_type": "markdown",
   "metadata": {},
   "source": [
    "This has an another simples variant"
   ]
  },
  {
   "cell_type": "code",
   "execution_count": 16,
   "metadata": {},
   "outputs": [
    {
     "name": "stdout",
     "output_type": "stream",
     "text": [
      "[[0.60474434 0.15715928 0.94354857 0.08730477]\n",
      " [0.77605243 0.63190607 0.98395298 0.12839072]\n",
      " [0.15867591 0.42501871 0.09955484 0.79613565]\n",
      " [0.98804039 0.23135744 0.9130689  0.94330349]\n",
      " [0.11882521 0.54989634 0.9809389  0.29580321]]\n"
     ]
    }
   ],
   "source": [
    "print(np.random.rand(5,4))"
   ]
  },
  {
   "cell_type": "code",
   "execution_count": 18,
   "metadata": {},
   "outputs": [
    {
     "name": "stdout",
     "output_type": "stream",
     "text": [
      "[[-0.2964733  -0.60782094  0.6272586  -0.13969238]\n",
      " [ 0.97085139 -0.4519709  -0.58143887  0.07525988]\n",
      " [ 0.05712664  0.53122283  0.77504719  1.47039422]\n",
      " [-0.13957737 -0.18885388  1.37139236  0.1087314 ]\n",
      " [ 0.17492238 -0.18438565  0.7192904  -1.40276875]]\n"
     ]
    }
   ],
   "source": [
    "print(np.random.normal(size=(5,4)))"
   ]
  },
  {
   "cell_type": "markdown",
   "metadata": {},
   "source": [
    "This has produces a gaussian normally distributed sample with - \n",
    "* mean = 0\n",
    "* standard deviation = 1"
   ]
  },
  {
   "cell_type": "code",
   "execution_count": 19,
   "metadata": {},
   "outputs": [
    {
     "name": "stdout",
     "output_type": "stream",
     "text": [
      "[[64.97671536 34.14325983 57.30707182 31.91318855]\n",
      " [47.00990237 58.21528172 32.14367071 53.96994804]\n",
      " [60.38363831 54.78244078 47.27723363 70.74410286]\n",
      " [50.5578068  53.27385295 57.18339406 61.00883863]\n",
      " [60.18599958 32.93956518 39.64715219 43.40026835]]\n"
     ]
    }
   ],
   "source": [
    "# mean = 50\n",
    "# standard deviation = 10\n",
    "print(np.random.normal(50, 10, size=(5,4)))"
   ]
  },
  {
   "cell_type": "markdown",
   "metadata": {},
   "source": [
    "### Generating random integers"
   ]
  },
  {
   "cell_type": "code",
   "execution_count": 25,
   "metadata": {},
   "outputs": [
    {
     "name": "stdout",
     "output_type": "stream",
     "text": [
      "8\n"
     ]
    }
   ],
   "source": [
    "print(np.random.randint(10)) # a single integer between [0 and 10)"
   ]
  },
  {
   "cell_type": "code",
   "execution_count": 26,
   "metadata": {},
   "outputs": [
    {
     "name": "stdout",
     "output_type": "stream",
     "text": [
      "16\n"
     ]
    }
   ],
   "source": [
    "print(np.random.randint(11,22)) # A single integer between 11 and 22"
   ]
  },
  {
   "cell_type": "code",
   "execution_count": 29,
   "metadata": {},
   "outputs": [
    {
     "name": "stdout",
     "output_type": "stream",
     "text": [
      "[14 17 11 15 13]\n"
     ]
    }
   ],
   "source": [
    "print(np.random.randint(11,22, size=5)) # 1D array with 5 integers between 11 and 22"
   ]
  },
  {
   "cell_type": "code",
   "execution_count": 31,
   "metadata": {},
   "outputs": [
    {
     "name": "stdout",
     "output_type": "stream",
     "text": [
      "[[20 20 14 16]\n",
      " [14 19 12 21]\n",
      " [13 18 11 16]\n",
      " [13 18 19 16]\n",
      " [15 18 13 15]]\n"
     ]
    }
   ],
   "source": [
    "print(np.random.randint(11,22, size=(5,4))) "
   ]
  },
  {
   "cell_type": "markdown",
   "metadata": {},
   "source": [
    "### Array attributes"
   ]
  },
  {
   "cell_type": "code",
   "execution_count": 38,
   "metadata": {},
   "outputs": [
    {
     "name": "stdout",
     "output_type": "stream",
     "text": [
      "(5, 4)\n"
     ]
    }
   ],
   "source": [
    "a = np.random.random((5,4))\n",
    "print(a.shape)"
   ]
  },
  {
   "cell_type": "code",
   "execution_count": 39,
   "metadata": {},
   "outputs": [
    {
     "name": "stdout",
     "output_type": "stream",
     "text": [
      "5\n"
     ]
    }
   ],
   "source": [
    "# Number of rows\n",
    "print(a.shape[0])"
   ]
  },
  {
   "cell_type": "code",
   "execution_count": 40,
   "metadata": {},
   "outputs": [
    {
     "name": "stdout",
     "output_type": "stream",
     "text": [
      "4\n"
     ]
    }
   ],
   "source": [
    "# Number of columns\n",
    "print(a.shape[1])"
   ]
  },
  {
   "cell_type": "code",
   "execution_count": 41,
   "metadata": {},
   "outputs": [
    {
     "name": "stdout",
     "output_type": "stream",
     "text": [
      "2\n"
     ]
    }
   ],
   "source": [
    "# The dimension of the array\n",
    "print(len(a.shape))"
   ]
  },
  {
   "cell_type": "code",
   "execution_count": 42,
   "metadata": {},
   "outputs": [
    {
     "name": "stdout",
     "output_type": "stream",
     "text": [
      "20\n"
     ]
    }
   ],
   "source": [
    "# Number of elements in the array\n",
    "print(a.size)"
   ]
  },
  {
   "cell_type": "code",
   "execution_count": 43,
   "metadata": {},
   "outputs": [
    {
     "name": "stdout",
     "output_type": "stream",
     "text": [
      "float64\n"
     ]
    }
   ],
   "source": [
    "# Datatype of the array\n",
    "print(a.dtype)"
   ]
  },
  {
   "cell_type": "markdown",
   "metadata": {},
   "source": [
    "### Operations on ndarrays"
   ]
  },
  {
   "cell_type": "code",
   "execution_count": 44,
   "metadata": {},
   "outputs": [
    {
     "name": "stdout",
     "output_type": "stream",
     "text": [
      "[[8 0 7 5]\n",
      " [4 0 0 5]\n",
      " [3 3 2 0]\n",
      " [1 2 0 5]\n",
      " [7 7 6 6]]\n"
     ]
    }
   ],
   "source": [
    "a = np.random.randint(0,10,size=(5,4))\n",
    "print(a)"
   ]
  },
  {
   "cell_type": "code",
   "execution_count": 45,
   "metadata": {},
   "outputs": [
    {
     "name": "stdout",
     "output_type": "stream",
     "text": [
      "71\n"
     ]
    }
   ],
   "source": [
    "# Sum of all elements\n",
    "print(a.sum())"
   ]
  },
  {
   "cell_type": "code",
   "execution_count": 47,
   "metadata": {},
   "outputs": [
    {
     "name": "stdout",
     "output_type": "stream",
     "text": [
      "[23 12 15 21]\n"
     ]
    }
   ],
   "source": [
    "# Sum of each column - i.e sum of each row element of a column\n",
    "print(a.sum(axis=0))"
   ]
  },
  {
   "cell_type": "code",
   "execution_count": 48,
   "metadata": {},
   "outputs": [
    {
     "name": "stdout",
     "output_type": "stream",
     "text": [
      "[20  9  8  8 26]\n"
     ]
    }
   ],
   "source": [
    "print(a.sum(axis=1))"
   ]
  },
  {
   "cell_type": "code",
   "execution_count": 49,
   "metadata": {},
   "outputs": [
    {
     "name": "stdout",
     "output_type": "stream",
     "text": [
      "[1 0 0 0]\n"
     ]
    }
   ],
   "source": [
    "# Minimum of each column\n",
    "print(a.min(axis=0))"
   ]
  },
  {
   "cell_type": "code",
   "execution_count": 50,
   "metadata": {},
   "outputs": [
    {
     "name": "stdout",
     "output_type": "stream",
     "text": [
      "[0 0 0 0 6]\n"
     ]
    }
   ],
   "source": [
    "print(a.min(axis=1))"
   ]
  },
  {
   "cell_type": "code",
   "execution_count": 51,
   "metadata": {},
   "outputs": [
    {
     "name": "stdout",
     "output_type": "stream",
     "text": [
      "3.55\n"
     ]
    }
   ],
   "source": [
    "# Mean of all elements\n",
    "print(a.mean())"
   ]
  },
  {
   "cell_type": "markdown",
   "metadata": {},
   "source": [
    "### Getting maximum index"
   ]
  },
  {
   "cell_type": "code",
   "execution_count": 53,
   "metadata": {},
   "outputs": [
    {
     "name": "stdout",
     "output_type": "stream",
     "text": [
      "[62 19  2 56 16 58 44 88 56 58]\n",
      "7\n"
     ]
    }
   ],
   "source": [
    "# Maximum value location in 1D array\n",
    "a = np.random.randint(0,100,10)\n",
    "print(a)\n",
    "print(a.argmax())"
   ]
  },
  {
   "cell_type": "markdown",
   "metadata": {},
   "source": [
    "### Timing python operations"
   ]
  },
  {
   "cell_type": "code",
   "execution_count": 56,
   "metadata": {},
   "outputs": [
    {
     "name": "stdout",
     "output_type": "stream",
     "text": [
      "Hey this is just a simple print statement. Hope it takes some time.\n",
      "Time taken by print statement =  0.0  seconds.\n"
     ]
    }
   ],
   "source": [
    "import time\n",
    "\n",
    "t1 = time.time()\n",
    "print(\"Hey this is just a simple print statement. Hope it takes some time.\")\n",
    "t2 = time.time()\n",
    "print(\"Time taken by print statement = \",t2-t1, \" seconds.\")"
   ]
  },
  {
   "cell_type": "markdown",
   "metadata": {},
   "source": [
    "### Rolling Calculations"
   ]
  },
  {
   "cell_type": "code",
   "execution_count": 67,
   "metadata": {},
   "outputs": [
    {
     "name": "stderr",
     "output_type": "stream",
     "text": [
      "C:\\Users\\Vipul\\Anaconda3\\lib\\site-packages\\ipykernel_launcher.py:20: FutureWarning: pd.rolling_mean is deprecated for Series and will be removed in a future version, replace with \n",
      "\tSeries.rolling(window=20,center=False).mean()\n",
      "C:\\Users\\Vipul\\Anaconda3\\lib\\site-packages\\ipykernel_launcher.py:23: FutureWarning: pd.rolling_std is deprecated for Series and will be removed in a future version, replace with \n",
      "\tSeries.rolling(window=20,center=False).std()\n",
      "C:\\Users\\Vipul\\Anaconda3\\lib\\site-packages\\matplotlib\\legend.py:326: UserWarning: Unrecognized location \"Upper Left\". Falling back on \"best\"; valid locations are\n",
      "\tbest\n",
      "\tupper right\n",
      "\tupper left\n",
      "\tlower left\n",
      "\tlower right\n",
      "\tright\n",
      "\tcenter left\n",
      "\tcenter right\n",
      "\tlower center\n",
      "\tupper center\n",
      "\tcenter\n",
      "\n",
      "  % (loc, '\\n\\t'.join(self.codes)))\n"
     ]
    },
    {
     "data": {
      "image/png": "[encoded data removed]",
      "text/plain": [
       "<matplotlib.figure.Figure at 0x1f49e2d4588>"
      ]
     },
     "metadata": {},
     "output_type": "display_data"
    }
   ],
   "source": [
    "import pandas as pd\n",
    "import numpy as np\n",
    "import matplotlib.pyplot as plt\n",
    "\n",
    "def get_data(symbols, dates):\n",
    "    df = pd.DataFrame(index=dates)\n",
    "    \n",
    "    for symbol in symbols:\n",
    "        df_temp = pd.read_csv(\"data/{}.csv\".format(symbol),\n",
    "                             index_col = \"Date\",\n",
    "                             parse_dates=True,\n",
    "                             usecols=[\"Date\", \"Adj Close\"],\n",
    "                             na_values=[\"nan\"])\n",
    "        df_temp = df_temp.rename(columns={\"Adj Close\":symbol})\n",
    "        df = df.join(df_temp, how=\"inner\")\n",
    "    \n",
    "    return df\n",
    "\n",
    "def get_rolling_mean(data, window):\n",
    "    return pd.rolling_mean(data, window = window)\n",
    "\n",
    "def get_rolling_std(data, window):\n",
    "    return pd.rolling_std(data, window = window)\n",
    "\n",
    "def get_bollinger_bands(rolling_mean, rolling_std):\n",
    "    upper_band = rolling_mean + 2 * rolling_std\n",
    "    lower_band = rolling_mean - 2 * rolling_std\n",
    "    return upper_band, lower_band\n",
    "\n",
    "dates = pd.date_range('2010-01-01', '2010-12-31')\n",
    "symbols = [\"SPY\"]\n",
    "\n",
    "df = get_data(symbols, dates)\n",
    "rolling_mean = get_rolling_mean(df[\"SPY\"], 20)\n",
    "rolling_std = get_rolling_std(df[\"SPY\"], 20)\n",
    "upper_band, lower_band = get_bollinger_bands(rolling_mean, rolling_std)\n",
    "\n",
    "ax = df['SPY'].plot(title=\"Bollinger Bands\", label=\"SPY\")\n",
    "rolling_mean.plot(label=\"Rolling Mean\", ax = ax)\n",
    "upper_band.plot(label=\"Upper Band\", ax = ax)\n",
    "lower_band.plot(label=\"Lower Band\", ax = ax)\n",
    "\n",
    "ax.set_xlabel(\"Date\")\n",
    "ax.set_ylabel(\"Price\")\n",
    "ax.legend(loc=\"Upper Left\")\n",
    "plt.show()\n",
    "        "
   ]
  },
  {
   "cell_type": "code",
   "execution_count": 79,
   "metadata": {},
   "outputs": [
    {
     "name": "stderr",
     "output_type": "stream",
     "text": [
      "C:\\Users\\Vipul\\Anaconda3\\lib\\site-packages\\ipykernel_launcher.py:4: DeprecationWarning: \n",
      ".ix is deprecated. Please use\n",
      ".loc for label based indexing or\n",
      ".iloc for positional indexing\n",
      "\n",
      "See the documentation here:\n",
      "http://pandas.pydata.org/pandas-docs/stable/indexing.html#ix-indexer-is-deprecated\n",
      "  after removing the cwd from sys.path.\n"
     ]
    },
    {
     "data": {
      "image/png": "[encoded data removed]",
      "text/plain": [
       "<matplotlib.figure.Figure at 0x1f49e1505c0>"
      ]
     },
     "metadata": {},
     "output_type": "display_data"
    }
   ],
   "source": [
    "def compute_daily_returns(df):\n",
    "    daily_returns = df.copy()\n",
    "    daily_returns[1:] = (daily_returns[1:]/daily_returns[:-1].values) - 1\n",
    "    daily_returns.ix[0,:] = 0\n",
    "    return daily_returns\n",
    "\n",
    "dates = pd.date_range(\"2010-01-01\", \"2010-01-31\")\n",
    "daily_returns_SPY = compute_daily_returns(get_data([\"SPY\"], dates))\n",
    "daily_returns_SPY.plot()\n",
    "plt.show()"
   ]
  },
  {
   "cell_type": "code",
   "execution_count": 81,
   "metadata": {},
   "outputs": [
    {
     "name": "stderr",
     "output_type": "stream",
     "text": [
      "C:\\Users\\Vipul\\Anaconda3\\lib\\site-packages\\ipykernel_launcher.py:4: DeprecationWarning: \n",
      ".ix is deprecated. Please use\n",
      ".loc for label based indexing or\n",
      ".iloc for positional indexing\n",
      "\n",
      "See the documentation here:\n",
      "http://pandas.pydata.org/pandas-docs/stable/indexing.html#ix-indexer-is-deprecated\n",
      "  after removing the cwd from sys.path.\n"
     ]
    },
    {
     "data": {
      "image/png": "[encoded data removed]",
      "text/plain": [
       "<matplotlib.figure.Figure at 0x1f49d7080b8>"
      ]
     },
     "metadata": {},
     "output_type": "display_data"
    }
   ],
   "source": [
    "daily_returns_AAPL = compute_daily_returns(get_data([\"IBM\"], dates))\n",
    "daily_returns_AAPL.plot()\n",
    "plt.show()"
   ]
  },
  {
   "cell_type": "code",
   "execution_count": 82,
   "metadata": {
    "collapsed": true
   },
   "outputs": [],
   "source": [
    "def compute_daily_returns(df):\n",
    "    daily_returns = (df / df.shift(1)) - 1\n",
    "    daily_returns.ix[0,:] = 0\n",
    "    return daily_returns"
   ]
  },
  {
   "cell_type": "code",
   "execution_count": 83,
   "metadata": {},
   "outputs": [
    {
     "name": "stderr",
     "output_type": "stream",
     "text": [
      "C:\\Users\\Vipul\\Anaconda3\\lib\\site-packages\\ipykernel_launcher.py:3: DeprecationWarning: \n",
      ".ix is deprecated. Please use\n",
      ".loc for label based indexing or\n",
      ".iloc for positional indexing\n",
      "\n",
      "See the documentation here:\n",
      "http://pandas.pydata.org/pandas-docs/stable/indexing.html#ix-indexer-is-deprecated\n",
      "  This is separate from the ipykernel package so we can avoid doing imports until\n"
     ]
    },
    {
     "data": {
      "image/png": "[encoded data removed]",
      "text/plain": [
       "<matplotlib.figure.Figure at 0x1f49e1e2898>"
      ]
     },
     "metadata": {},
     "output_type": "display_data"
    }
   ],
   "source": [
    "daily_returns_AAPL = compute_daily_returns(get_data([\"IBM\"], dates))\n",
    "daily_returns_AAPL.plot()\n",
    "plt.show()"
   ]
  },
  {
   "cell_type": "code",
   "execution_count": null,
   "metadata": {
    "collapsed": true
   },
   "outputs": [],
   "source": []
  }
 ],
 "metadata": {
  "kernelspec": {
   "display_name": "Python 3",
   "language": "python",
   "name": "python3"
  },
  "language_info": {
   "codemirror_mode": {
    "name": "ipython",
    "version": 3
   },
   "file_extension": ".py",
   "mimetype": "text/x-python",
   "name": "python",
   "nbconvert_exporter": "python",
   "pygments_lexer": "ipython3",
   "version": "3.6.3"
  }
 },
 "nbformat": 4,
 "nbformat_minor": 2
}

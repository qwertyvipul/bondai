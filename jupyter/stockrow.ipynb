{
 "cells": [
  {
   "cell_type": "markdown",
   "metadata": {},
   "source": [
    "# Stockrow"
   ]
  },
  {
   "cell_type": "code",
   "execution_count": 1,
   "metadata": {
    "collapsed": true
   },
   "outputs": [],
   "source": [
    "import xlrd # to work with excel files"
   ]
  },
  {
   "cell_type": "code",
   "execution_count": 2,
   "metadata": {
    "collapsed": true
   },
   "outputs": [],
   "source": [
    "FOLDER = \"../../data/stockrow/AAPL/financials/\"\n",
    "\n",
    "BALANCE_SHEET = \"balance-sheet.xlsx\"\n",
    "CASHFLOW = \"cashflow.xlsx\"\n",
    "GROWTH = \"growth.xlsx\"\n",
    "INCOME = \"income.xlsx\"\n",
    "METRICS = \"metrics.xlsx\""
   ]
  },
  {
   "cell_type": "code",
   "execution_count": 3,
   "metadata": {
    "collapsed": true
   },
   "outputs": [],
   "source": [
    "bs_wb = xlrd.open_workbook(FOLDER + BALANCE_SHEET)\n",
    "bs_sheet = bs_wb.sheet_by_index(0)"
   ]
  },
  {
   "cell_type": "code",
   "execution_count": 4,
   "metadata": {},
   "outputs": [
    {
     "name": "stdout",
     "output_type": "stream",
     "text": [
      "Rows = 28\n",
      "Cols = 41\n"
     ]
    }
   ],
   "source": [
    "print(\"Rows = \" + str(bs_sheet.nrows))\n",
    "print(\"Cols = \" + str(bs_sheet.ncols))"
   ]
  },
  {
   "cell_type": "code",
   "execution_count": 5,
   "metadata": {},
   "outputs": [
    {
     "name": "stdout",
     "output_type": "stream",
     "text": [
      "\"\"\n",
      "\"Cash and cash equivalents\"\n",
      "\"Short-term investments\"\n",
      "\"Cash and short-term investments\"\n",
      "\"Receivables\"\n",
      "\"Inventories\"\n",
      "\"Total current assets\"\n",
      "\"Property, Plant & Equipment Net\"\n",
      "\"Goodwill and Intangible Assets\"\n",
      "\"Long-term investments\"\n",
      "\"Tax assets\"\n",
      "\"Total non-current assets\"\n",
      "\"Total assets\"\n",
      "\"Payables\"\n",
      "\"Short-term debt\"\n",
      "\"Total current liabilities\"\n",
      "\"Long-term debt\"\n",
      "\"Total debt\"\n",
      "\"Deferred revenue\"\n",
      "\"Tax Liabilities\"\n",
      "\"Deposit Liabilities\"\n",
      "\"Total non-current liabilities\"\n",
      "\"Total liabilities\"\n",
      "\"Other comprehensive income\"\n",
      "\"Retained earnings (deficit)\"\n",
      "\"Shareholders Equity\"\n",
      "\"Investments\"\n",
      "\"Net Debt\"\n"
     ]
    }
   ],
   "source": [
    "for i in range(bs_sheet.nrows):\n",
    "    print(\"\\\"\" + bs_sheet.cell_value(i, 0) + \"\\\"\")"
   ]
  },
  {
   "cell_type": "code",
   "execution_count": 38,
   "metadata": {},
   "outputs": [
    {
     "name": "stdout",
     "output_type": "stream",
     "text": [
      "29-12-2018\n",
      "29-09-2018\n",
      "30-06-2018\n",
      "31-03-2018\n",
      "30-12-2017\n",
      "30-09-2017\n",
      "01-07-2017\n",
      "01-04-2017\n",
      "31-12-2016\n",
      "24-09-2016\n",
      "25-06-2016\n",
      "26-03-2016\n",
      "26-12-2015\n",
      "26-09-2015\n",
      "27-06-2015\n",
      "28-03-2015\n",
      "27-12-2014\n",
      "27-09-2014\n",
      "28-06-2014\n",
      "29-03-2014\n",
      "28-12-2013\n",
      "28-09-2013\n",
      "29-06-2013\n",
      "30-03-2013\n",
      "29-12-2012\n",
      "29-09-2012\n",
      "30-06-2012\n",
      "31-03-2012\n",
      "31-12-2011\n",
      "24-09-2011\n",
      "25-06-2011\n",
      "26-03-2011\n",
      "25-12-2010\n",
      "25-09-2010\n",
      "26-06-2010\n",
      "27-03-2010\n",
      "26-12-2009\n",
      "26-09-2009\n",
      "27-06-2009\n",
      "28-03-2009\n"
     ]
    }
   ],
   "source": [
    "import datetime\n",
    "for i in range(bs_sheet.ncols):\n",
    "    if(i==0): continue\n",
    "    \n",
    "    date_number = bs_sheet.cell_value(0, i)\n",
    "    date = datetime.datetime(*xlrd.xldate_as_tuple(date_number, bs_wb.datemode))\n",
    "    print(date.strftime(\"%d-%m-%Y\"))"
   ]
  },
  {
   "cell_type": "code",
   "execution_count": 40,
   "metadata": {},
   "outputs": [
    {
     "name": "stdout",
     "output_type": "stream",
     "text": [
      "                                   2018-12-29    2018-09-29    2018-06-30  \\\n",
      "Cash and cash equivalents         44771000000   25913000000   31971000000   \n",
      "Short-term investments            41656000000   40388000000   38999000000   \n",
      "Cash and short-term investments   86427000000   66301000000   70970000000   \n",
      "Receivables                       36981000000   48995000000   26367000000   \n",
      "Inventories                        4988000000    3956000000    5936000000   \n",
      "Total current assets             140828000000  131339000000  115761000000   \n",
      "Property, Plant & Equipment Net   39597000000   41304000000   38117000000   \n",
      "Goodwill and Intangible Assets              0             0             0   \n",
      "Long-term investments            158608000000  170799000000  172773000000   \n",
      "Tax assets                                  0             0             0   \n",
      "Total non-current assets         232891000000  234386000000  233436000000   \n",
      "Total assets                     373719000000  365725000000  349197000000   \n",
      "Payables                          44293000000   55888000000   38489000000   \n",
      "Short-term debt                   21741000000   20748000000   17472000000   \n",
      "Total current liabilities        108283000000  115929000000   88548000000   \n",
      "Long-term debt                    92989000000   93735000000   97128000000   \n",
      "Total debt                       114730000000  114483000000  114600000000   \n",
      "Deferred revenue                   5546000000    5966000000   10281000000   \n",
      "Tax Liabilities                             0             0             0   \n",
      "Deposit Liabilities                         0             0             0   \n",
      "Total non-current liabilities    147544000000  142649000000  145700000000   \n",
      "Total liabilities                255827000000  258578000000  234248000000   \n",
      "Other comprehensive income        -3588000000   -3454000000   -3111000000   \n",
      "Retained earnings (deficit)       80510000000   70400000000   79436000000   \n",
      "Shareholders Equity              117892000000  107147000000  114949000000   \n",
      "Investments                      200264000000  211187000000  211772000000   \n",
      "Net Debt                          28303000000   48182000000   43630000000   \n",
      "\n",
      "                                   2018-03-31    2017-12-30    2017-09-30  \\\n",
      "Cash and cash equivalents         45059000000   27491000000   20289000000   \n",
      "Short-term investments            42881000000   49662000000   53892000000   \n",
      "Cash and short-term investments   87940000000   77153000000   74181000000   \n",
      "Receivables                       22408000000   50899000000   35673000000   \n",
      "Inventories                        7662000000    4421000000    4855000000   \n",
      "Total current assets             130053000000  143810000000  128645000000   \n",
      "Property, Plant & Equipment Net   35077000000   33679000000   33783000000   \n",
      "Goodwill and Intangible Assets              0    8038000000             0   \n",
      "Long-term investments            179286000000  207944000000  194714000000   \n",
      "Tax assets                                  0             0             0   \n",
      "Total non-current assets         237449000000  262984000000  246674000000   \n",
      "Total assets                     367502000000  406794000000  375319000000   \n",
      "Payables                          34311000000   62985000000   44242000000   \n",
      "Short-term debt                   20478000000   18478000000   18473000000   \n",
      "Total current liabilities         89320000000  115788000000  100814000000   \n",
      "Long-term debt                   101362000000  103922000000   97207000000   \n",
      "Total debt                       121840000000  122400000000  115680000000   \n",
      "Deferred revenue                  10862000000   11175000000   10384000000   \n",
      "Tax Liabilities                             0             0             0   \n",
      "Deposit Liabilities                         0             0             0   \n",
      "Total non-current liabilities    151304000000  150807000000  140458000000   \n",
      "Total liabilities                240624000000  266595000000  241272000000   \n",
      "Other comprehensive income        -3064000000    -841000000    -150000000   \n",
      "Retained earnings (deficit)       91898000000  104593000000   98330000000   \n",
      "Shareholders Equity              126878000000  140199000000  134047000000   \n",
      "Investments                      222167000000  257606000000  248606000000   \n",
      "Net Debt                          33900000000   45247000000   41499000000   \n",
      "\n",
      "                                   2017-07-01    2017-04-01    2016-12-31  \\\n",
      "Cash and cash equivalents         18571000000   15157000000   16371000000   \n",
      "Short-term investments            58188000000   51944000000   44081000000   \n",
      "Cash and short-term investments   76759000000   67101000000   60452000000   \n",
      "Receivables                       22632000000   20612000000   27977000000   \n",
      "Inventories                        3146000000    2910000000    2712000000   \n",
      "Total current assets             112875000000  101990000000  103332000000   \n",
      "Property, Plant & Equipment Net   29286000000   27163000000   26510000000   \n",
      "Goodwill and Intangible Assets     8105000000    8090000000    8271000000   \n",
      "Long-term investments            184757000000  189740000000  185638000000   \n",
      "Tax assets                                  0             0             0   \n",
      "Total non-current assets         232298000000  232542000000  227809000000   \n",
      "Total assets                     345173000000  334532000000  331141000000   \n",
      "Payables                          31915000000   28573000000   38510000000   \n",
      "Short-term debt                   18475000000   13991000000   13992000000   \n",
      "Total current liabilities         81302000000   73342000000   84130000000   \n",
      "Long-term debt                    89864000000   84531000000   73557000000   \n",
      "Total debt                       108339000000   98522000000   87549000000   \n",
      "Deferred revenue                  10592000000   10789000000   11052000000   \n",
      "Tax Liabilities                             0             0             0   \n",
      "Deposit Liabilities                         0             0             0   \n",
      "Total non-current liabilities    131446000000  127108000000  114621000000   \n",
      "Total liabilities                212748000000  200450000000  198751000000   \n",
      "Other comprehensive income         -545000000    -422000000     245000000   \n",
      "Retained earnings (deficit)       98525000000  100925000000  100001000000   \n",
      "Shareholders Equity              132425000000  134082000000  132390000000   \n",
      "Investments                      242945000000  241684000000  229719000000   \n",
      "Net Debt                          31580000000   31421000000   27097000000   \n",
      "\n",
      "                                   2016-09-24     ...         2011-06-25  \\\n",
      "Cash and cash equivalents         20484000000     ...        12091000000   \n",
      "Short-term investments            46671000000     ...        16304000000   \n",
      "Cash and short-term investments   67155000000     ...        28395000000   \n",
      "Receivables                       29299000000     ...        11471000000   \n",
      "Inventories                        2132000000     ...          889000000   \n",
      "Total current assets             106869000000     ...        46898000000   \n",
      "Property, Plant & Equipment Net   27010000000     ...         6749000000   \n",
      "Goodwill and Intangible Assets     8620000000     ...         1910000000   \n",
      "Long-term investments            170430000000     ...        47761000000   \n",
      "Tax assets                                  0     ...         1892000000   \n",
      "Total non-current assets         214817000000     ...        59860000000   \n",
      "Total assets                     321686000000     ...       106758000000   \n",
      "Payables                          37294000000     ...        15270000000   \n",
      "Short-term debt                   11605000000     ...                  0   \n",
      "Total current liabilities         79006000000     ...        26859000000   \n",
      "Long-term debt                    75427000000     ...                  0   \n",
      "Total debt                        87032000000     ...                  0   \n",
      "Deferred revenue                  11010000000     ...         5399000000   \n",
      "Tax Liabilities                             0     ...                  0   \n",
      "Deposit Liabilities                         0     ...                  0   \n",
      "Total non-current liabilities    114431000000     ...        10556000000   \n",
      "Total liabilities                193437000000     ...        37415000000   \n",
      "Other comprehensive income          634000000     ...          389000000   \n",
      "Retained earnings (deficit)       96364000000     ...        56239000000   \n",
      "Shareholders Equity              128249000000     ...        69343000000   \n",
      "Investments                      217101000000     ...        64065000000   \n",
      "Net Debt                          19877000000     ...       -28395000000   \n",
      "\n",
      "                                  2011-03-26   2010-12-25   2010-09-25  \\\n",
      "Cash and cash equivalents        15978000000  10734000000  11261000000   \n",
      "Short-term investments           13256000000  16243000000  14359000000   \n",
      "Cash and short-term investments  29234000000  26977000000  25620000000   \n",
      "Receivables                      11095000000  10874000000   9924000000   \n",
      "Inventories                        930000000    885000000   1051000000   \n",
      "Total current assets             46997000000  43927000000  41678000000   \n",
      "Property, Plant & Equipment Net   6241000000   5868000000   4768000000   \n",
      "Goodwill and Intangible Assets    1248000000   1263000000   1083000000   \n",
      "Long-term investments            36533000000  32730000000  25391000000   \n",
      "Tax assets                        1683000000   1724000000   1636000000   \n",
      "Total non-current assets         47907000000  42815000000  33505000000   \n",
      "Total assets                     94904000000  86742000000  75183000000   \n",
      "Payables                         13714000000  14301000000  12015000000   \n",
      "Short-term debt                            0            0            0   \n",
      "Total current liabilities        24327000000  23795000000  20722000000   \n",
      "Long-term debt                             0            0            0   \n",
      "Total debt                                 0            0            0   \n",
      "Deferred revenue                  4821000000   4757000000   4123000000   \n",
      "Tax Liabilities                            0            0            0   \n",
      "Deposit Liabilities                        0            0            0   \n",
      "Total non-current liabilities     9100000000   8281000000   6670000000   \n",
      "Total liabilities                33427000000  32076000000  27392000000   \n",
      "Other comprehensive income         126000000    114000000    -46000000   \n",
      "Retained earnings (deficit)      49025000000  43050000000  37169000000   \n",
      "Shareholders Equity              61477000000  54666000000  47791000000   \n",
      "Investments                      49789000000  48973000000  39750000000   \n",
      "Net Debt                        -29234000000 -26977000000 -25620000000   \n",
      "\n",
      "                                  2010-06-26   2010-03-27   2009-12-26  \\\n",
      "Cash and cash equivalents         9705000000  10018000000   7609000000   \n",
      "Short-term investments           14583000000  13137000000  17187000000   \n",
      "Cash and short-term investments  24288000000  23155000000  24796000000   \n",
      "Receivables                       6399000000   2886000000   3090000000   \n",
      "Inventories                        942000000    638000000    576000000   \n",
      "Total current assets             36033000000  32336000000  33332000000   \n",
      "Property, Plant & Equipment Net   3990000000   3504000000   3115000000   \n",
      "Goodwill and Intangible Assets    1032000000    743000000    494000000   \n",
      "Long-term investments            21551000000  18549000000  15024000000   \n",
      "Tax assets                        1216000000   1142000000   1180000000   \n",
      "Total non-current assets         28692000000  24721000000  20594000000   \n",
      "Total assets                     64725000000  57057000000  53926000000   \n",
      "Payables                          8469000000   5666000000   6511000000   \n",
      "Short-term debt                            0            0            0   \n",
      "Total current liabilities        15612000000  12229000000  13097000000   \n",
      "Long-term debt                             0            0            0   \n",
      "Total debt                                 0            0            0   \n",
      "Deferred revenue                  3712000000   3483000000   3512000000   \n",
      "Tax Liabilities                            0            0            0   \n",
      "Deposit Liabilities                        0            0            0   \n",
      "Total non-current liabilities     6002000000   5480000000   5061000000   \n",
      "Total liabilities                21614000000  17709000000  18158000000   \n",
      "Other comprehensive income         108000000    125000000    111000000   \n",
      "Retained earnings (deficit)      32870000000  29670000000  26695000000   \n",
      "Shareholders Equity              43111000000  39348000000  35768000000   \n",
      "Investments                      36134000000  31686000000  32211000000   \n",
      "Net Debt                        -24288000000 -23155000000 -24796000000   \n",
      "\n",
      "                                  2009-09-26   2009-06-27   2009-03-28  \n",
      "Cash and cash equivalents         5263000000   5605000000   4466000000  \n",
      "Short-term investments           18201000000  18617000000  20547000000  \n",
      "Cash and short-term investments  23464000000  24222000000  25013000000  \n",
      "Receivables                       5057000000   2686000000   1932000000  \n",
      "Inventories                        455000000    380000000    312000000  \n",
      "Total current assets             31555000000  35170000000  33853000000  \n",
      "Property, Plant & Equipment Net   2954000000   2653000000   2546000000  \n",
      "Goodwill and Intangible Assets     453000000    466000000    475000000  \n",
      "Long-term investments            10528000000   6899000000   3865000000  \n",
      "Tax assets                        1135000000   1731000000   1539000000  \n",
      "Total non-current assets         15946000000  12970000000   9384000000  \n",
      "Total assets                     47501000000  48140000000  43237000000  \n",
      "Payables                          5601000000   4854000000   3976000000  \n",
      "Short-term debt                            0            0            0  \n",
      "Total current liabilities        11506000000  16661000000  13751000000  \n",
      "Long-term debt                             0            0            0  \n",
      "Total debt                                 0            0            0  \n",
      "Deferred revenue                  2906000000  12136000000  10474000000  \n",
      "Tax Liabilities                            0            0            0  \n",
      "Deposit Liabilities                        0            0            0  \n",
      "Total non-current liabilities     4355000000   5591000000   5175000000  \n",
      "Total liabilities                15861000000  22252000000  18926000000  \n",
      "Other comprehensive income          77000000     53000000     15000000  \n",
      "Retained earnings (deficit)      23353000000  17878000000  16653000000  \n",
      "Shareholders Equity              31640000000  25888000000  24311000000  \n",
      "Investments                      28729000000  25516000000  24412000000  \n",
      "Net Debt                        -23464000000 -24222000000 -25013000000  \n",
      "\n",
      "[27 rows x 40 columns]\n"
     ]
    }
   ],
   "source": [
    "import pandas as pd\n",
    "wb = pd.read_excel(FOLDER + BALANCE_SHEET)\n",
    "print(wb)"
   ]
  },
  {
   "cell_type": "code",
   "execution_count": 47,
   "metadata": {},
   "outputs": [
    {
     "name": "stdout",
     "output_type": "stream",
     "text": [
      "[44771000000 25913000000 31971000000 45059000000 27491000000 20289000000\n",
      " 18571000000 15157000000 16371000000 20484000000 18237000000 21514000000\n",
      " 16689000000 21120000000 15319000000 14489000000 19478000000 13844000000\n",
      " 12977000000 18949000000 14077000000 14259000000 11248000000 12053000000\n",
      " 16154000000 10746000000  7945000000 10121000000 10310000000  9815000000\n",
      " 12091000000 15978000000 10734000000 11261000000  9705000000 10018000000\n",
      "  7609000000  5263000000  5605000000  4466000000]\n"
     ]
    }
   ],
   "source": [
    "data = wb.as_matrix()\n",
    "print(data[0])"
   ]
  },
  {
   "cell_type": "code",
   "execution_count": 53,
   "metadata": {},
   "outputs": [
    {
     "data": {
      "image/png": "[encoded data removed]",
      "text/plain": [
       "<matplotlib.figure.Figure at 0x2796f9270f0>"
      ]
     },
     "metadata": {},
     "output_type": "display_data"
    }
   ],
   "source": [
    "import matplotlib.pyplot as plt\n",
    "plt.plot(data[0][::-1])\n",
    "plt.plot(data[0][::-1], 'ro')\n",
    "plt.ylabel('cash')\n",
    "plt.show()"
   ]
  },
  {
   "cell_type": "code",
   "execution_count": 56,
   "metadata": {},
   "outputs": [
    {
     "data": {
      "image/png": "[encoded data removed]",
      "text/plain": [
       "<matplotlib.figure.Figure at 0x2796f9890f0>"
      ]
     },
     "metadata": {},
     "output_type": "display_data"
    }
   ],
   "source": []
  }
 ],
 "metadata": {
  "kernelspec": {
   "display_name": "Python 3",
   "language": "python",
   "name": "python3"
  },
  "language_info": {
   "codemirror_mode": {
    "name": "ipython",
    "version": 3
   },
   "file_extension": ".py",
   "mimetype": "text/x-python",
   "name": "python",
   "nbconvert_exporter": "python",
   "pygments_lexer": "ipython3",
   "version": "3.6.3"
  }
 },
 "nbformat": 4,
 "nbformat_minor": 2
}
